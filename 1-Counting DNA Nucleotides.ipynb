{
 "cells": [
  {
   "cell_type": "markdown",
   "id": "975b4fc9",
   "metadata": {},
   "source": [
    "# Counting DNA Nucleotides"
   ]
  },
  {
   "cell_type": "markdown",
   "id": "e780275b",
   "metadata": {},
   "source": [
    "### Given: A DNA string s of length at most 1000 nt.\n",
    "\n",
    "### Return: Four integers (separated by spaces) counting the respective number of times that the symbols 'A', 'C', 'G', and 'T' occur in s."
   ]
  },
  {
   "cell_type": "markdown",
   "id": "3fb1b29c",
   "metadata": {},
   "source": [
    "#### Sample Dataset\n",
    "#### AGCTTTTCATTCTGACTGCAACGGGCAATATGTCTCTGTGTGGATTAAAAAAAGAGTGTCTGATAGCAGC\n",
    "#### Sample Output\n",
    "#### 20 12 17 21"
   ]
  },
  {
   "cell_type": "code",
   "execution_count": 10,
   "id": "40df7cdc",
   "metadata": {},
   "outputs": [
    {
     "name": "stdout",
     "output_type": "stream",
     "text": [
      "258 241 251 222\n"
     ]
    }
   ],
   "source": [
    "s = \"CGCTCCGATTACTCAGTCCCTCCAGGACCTTGTTCCCTGCTCTCTGAACGCGTGATGTACGCCACAGAACGTACGCATCTCGAGCAGAATATTCGCGAGGAGCCCGGAGGAAAGTGTTGGCCTCCCGAGCTGCTAAGTTACGGAAGACCGAGGGGTGATGCCACTGGCGGAGTGAAAACCTGTTAATTAGAACAGCCGGGGCATTGCGCCCGAGCGCCCTGACCAGTCAATAACATTACCACAGAAAACCAACAATTTTTCAAGCGTACTAGAGAATCACTAGGTACTGACGTTTCCAACAGAAGGGTGCGTAAAGTAATAAACCGAGACATGGAGAACACTTGCGTCCACACACGGTTCTCAGATGATCCACGAACGCCTTTTGCGGGCCGAAGAGTGTCCTGAGTAACCTGTACCGGACAAGTCGATGTCAAGTATGACAACGTCAGAAACTGTAAATCCGAATTCACAGGAGAAAACAGAAGCGGACCGACCTGTCTGTATACTCACTCTGCAGTGCGAGCGTTGAGGCACACGAGATAGCTTTGGTGATACTCTTATACAGTCCCTTAGGGTGAAACACTGGTCTCTATAAGGTACTCATAGATCGTCACTTACGTTGAACGCACTTCGAATACAGAGTACTGCCATGTCCGAAGACCTGGGAATGCTTGACTTAGTCCCGACGAATGTCTTAAATAGTGCGAGGCAAACGATAATTGGGCATCGACGCAAGATTATGACTGGGTCGGCTAGAATAAGTGCCGGAAACTGCCTAGCGTTACACTACCGCGGCGCGCCCTGTATGCTCAATTTGTTAGCCGTGCAAAATTACTTGCAGTGGGTAGGCATGCGAGTGTATTAGCATTGAGTGTCTGGATATCGCCCTTGTGTCCCACGGGAAATCCTCCGTTTGGTCGGCTGGAGTCCGCTCCTTTGACATGTCATTAGGGCTAGTTCCAGCAACGGCAG\"\n",
    "\n",
    "A_count = s.count('A')\n",
    "C_count = s.count('C')\n",
    "G_count = s.count('G')\n",
    "T_count = s.count('T')\n",
    "\n",
    "print(A_count, C_count, G_count, T_count)"
   ]
  }
 ],
 "metadata": {
  "kernelspec": {
   "display_name": "Python 3 (ipykernel)",
   "language": "python",
   "name": "python3"
  },
  "language_info": {
   "codemirror_mode": {
    "name": "ipython",
    "version": 3
   },
   "file_extension": ".py",
   "mimetype": "text/x-python",
   "name": "python",
   "nbconvert_exporter": "python",
   "pygments_lexer": "ipython3",
   "version": "3.9.7"
  }
 },
 "nbformat": 4,
 "nbformat_minor": 5
}
