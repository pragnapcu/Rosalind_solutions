{
 "cells": [
  {
   "cell_type": "markdown",
   "id": "30378e8f",
   "metadata": {},
   "source": [
    "#### Given: A DNA string s of length at most 1000 bp.\n",
    "\n",
    "#### Return: Four integers (separated by spaces) representing the respective number of times that the symbols 'A', 'C', 'G', and 'T' occur in s. "
   ]
  },
  {
   "cell_type": "markdown",
   "id": "ed5e06d4",
   "metadata": {},
   "source": [
    "###### Sample Dataset\n",
    "###### AGCTTTTCATTCTGACTGCAACGGGCAATATGTCTCTGTGTGGATTAAAAAAAGAGTGTCTGATAGCAGC\n",
    "###### Sample Output\n",
    "###### 20 12 17 21"
   ]
  },
  {
   "cell_type": "code",
   "execution_count": 3,
   "id": "e448b1b1",
   "metadata": {},
   "outputs": [
    {
     "name": "stdout",
     "output_type": "stream",
     "text": [
      "Collecting biopython\n",
      "  Downloading biopython-1.79-cp39-cp39-win_amd64.whl (2.3 MB)\n",
      "Requirement already satisfied: numpy in c:\\users\\deepti\\anaconda3\\lib\\site-packages (from biopython) (1.20.3)\n",
      "Installing collected packages: biopython\n",
      "Successfully installed biopython-1.79\n",
      "Note: you may need to restart the kernel to use updated packages.\n"
     ]
    }
   ],
   "source": [
    "pip install biopython"
   ]
  },
  {
   "cell_type": "code",
   "execution_count": 4,
   "id": "4c89e043",
   "metadata": {},
   "outputs": [
    {
     "name": "stdout",
     "output_type": "stream",
     "text": [
      "206 232 185 193\n"
     ]
    }
   ],
   "source": [
    "from Bio.Seq import Seq\n",
    "my_seq = Seq(\"AGTTAAGACTCCTCAAAGTCGTCAAGGTAGTTCACATGGCGGGAACGGTACGAGTGGCTGTACCGTAACAAATTTCTACTGCGAGCTCGTTCGGTCGCAGACCATCACCACGGCGTCGCCTGCGATCGTATCAGGGTACATCCTAAACTCTGGGCCATTAAACAAGATATTCACAGACGAGCCGCACCCACGGTACTAGAGCGATAGCCAGACTTCCCGAGTTCTCCGATCAATGGGTCAGATACTTCAAGGCACCCTGGACGACTACATTAATCTCGTAATGTTCGACCCAAACTTTACTTACGCCGCCCGGTATCTCCAAACCTGCAGTCTGCGACAGTCAACTGGAATTTAGCATTCCATCGATCACGCTGAGCGTGTGAAGGAAAACACGCCGCCATCTCTGATTGTAGTGGCCCGAACGCTGTCTTAAAGGGTCTATGGTGGAATGCCCCTGTCTCGAACCGTGTCAGATAGACCTGTCAGGAGTTCCTCCTACCTTTTAAGAGGCCAGATGATCTCAGCCGAATATAAGGTTCCCCGGTACTGGTGGCGATAGATCTAGTGATCTTTGATCCCGATAGCGCCTGCCGTAATGTGACAGCGCCCCCGGCCTACCGTGTTCAGCTTGTTCGAAACAAGGTAACCCAATGCCATCCACCGCCCAACTCCCACATCGCGCTTACGCAAGTCCATTCACTTGACACAACTCGACGTTATCGCGTCTACTATATAGTTGTAGTTCATCCAATCAGTTGCCGCAATTCTGTCGGCGGGAAAGGCTAACTAATCATGCCCAAAGGCGATTAATAAGCT\")\n",
    "A_count, C_count, G_count, T_count = my_seq.count(\"A\"), my_seq.count(\"C\"), my_seq.count(\"G\"), my_seq.count(\"T\")\n",
    "print(A_count, C_count, G_count, T_count)"
   ]
  }
 ],
 "metadata": {
  "kernelspec": {
   "display_name": "Python 3 (ipykernel)",
   "language": "python",
   "name": "python3"
  },
  "language_info": {
   "codemirror_mode": {
    "name": "ipython",
    "version": 3
   },
   "file_extension": ".py",
   "mimetype": "text/x-python",
   "name": "python",
   "nbconvert_exporter": "python",
   "pygments_lexer": "ipython3",
   "version": "3.9.7"
  }
 },
 "nbformat": 4,
 "nbformat_minor": 5
}
