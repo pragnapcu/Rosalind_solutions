{
 "cells": [
  {
   "cell_type": "markdown",
   "id": "a29d6e46",
   "metadata": {},
   "source": [
    "### 5-Finding a Motif in DNA\n",
    "\n",
    "#### Given: Two DNA strings s and t (each of length at most 1 kbp).\n",
    "#### Return: All locations of t as a substring of s.\n",
    "\n",
    "##### Sample Dataset\n",
    "##### GATATATGCATATACTT\n",
    "##### ATAT\n",
    "##### Sample Output\n",
    "##### 2 4 10"
   ]
  },
  {
   "cell_type": "code",
   "execution_count": 72,
   "id": "ecf7e70c",
   "metadata": {},
   "outputs": [
    {
     "name": "stdout",
     "output_type": "stream",
     "text": [
      "1 50 87 94 101 108 137 192 207 233 253 273 343 413 442 487 494 501 543 579 594 611 618 655 672 713 772 779 872 879 "
     ]
    }
   ],
   "source": [
    "s1 = \"CATCCTACACGCCATCCTACCATCCTACCATCCTAACGGCATCCTACCGCATCCTACATCCTAAGCATCCTATCACCATCCTAGCGCATCCTACATCCTACATCCTACATCCTACATCCTAAAAAACACAGCCAAGCATCCTACATCCTAACTATTCGAGTTACTCATCCTAGCATCCTAAATCATCCTATCATCCTACATCCTATCATCCTACATCCTATCATCCTAATTGCATCCTACATCCTACGCTGGCATCCTACATCCTATTCGCACATCCTACAAGCCATCCTAGCATCCTAACATCCTAGGAGAGGGACATCCTAGGAGTCATCCTAAGGGCGGCATCCTACATCCTAAGTCCATCCTAAGCGCCATCCTAATTGATACCTTCATCCTAGGTCTGCATCCTATTCATCCTACATCCTAACTCATCCTATAGTCCATCCTACATCCTACGTGTCATCCTACGCGGCACATCCTACGCCCCATCCTACATCCTACATCCTACAAGGCCATCCTACTTCGACATCCTACCATCCTAGCATCCTACATCCTAAAGGTCGTTGGCTTCATCCTAGCATCCTACATCCTAACATCCTACATCCTATTTCATCCTACATCCTACACATCCTAATGCACTCATCCTAATTATTGCATCCTACATCCTAAGCCATCCTACATCCTATCTTGGCATCCTATGACTCATCCTAAGCATCCTACATCCTATCATCCTAAATTACATCCTAAGTTAGCCATCCTATCCATCCTACCCATCCTACATCCTACATCCTAGACCATCCTAGATCCCATGCATCCTAGTCAACATCCTATTCATCCTAACCATCCTACCATCCTAGCATCCTACTGCAGACATCCTACATCCTACATCCTACGTTTCCCCATCCTATTCA\"\n",
    "ss = \"CATCCTACA\"\n",
    "ss_len = len(ss)\n",
    "\n",
    "for i in range(len(s1)):\n",
    "    if (s1[i:i+ss_len]) == ss:\n",
    "        print(i+1, end = ' ')"
   ]
  }
 ],
 "metadata": {
  "kernelspec": {
   "display_name": "Python 3 (ipykernel)",
   "language": "python",
   "name": "python3"
  },
  "language_info": {
   "codemirror_mode": {
    "name": "ipython",
    "version": 3
   },
   "file_extension": ".py",
   "mimetype": "text/x-python",
   "name": "python",
   "nbconvert_exporter": "python",
   "pygments_lexer": "ipython3",
   "version": "3.9.7"
  }
 },
 "nbformat": 4,
 "nbformat_minor": 5
}
